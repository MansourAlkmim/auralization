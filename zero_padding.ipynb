{
 "cells": [
  {
   "cell_type": "markdown",
   "metadata": {},
   "source": [
    "# example on the difference between convolution and fft\n",
    "* convolution is flip, multiply and sum given an LTI input and its impulse response\n",
    "* circular convolution assumes tha the support of the dignal is periodic\n",
    "* because the input functions are periodic, the convolved output is also periodic\n",
    "\n",
    "* it is more efficient to implement convolution by multiply in the frequency domain\n",
    "* **sampling in the frequency requires periodicity in the time domain**\n",
    "* fft assumes the input signal as periodic\n",
    "* FFT result in circular convolution\n",
    "* implicitly the circular convolution is used very frequently. Any time **DFTs (FFT) or Fourier Series are multiplied**, there is an underlying circular convolution taking place.\n",
    "\n",
    "-The method needs to be properly modified so that linear convolution can be done (e.g. overlap-add method)."
   ]
  },
  {
   "cell_type": "code",
   "execution_count": 12,
   "metadata": {},
   "outputs": [
    {
     "data": {
      "image/png": "[encoded data removed]",
      "text/plain": [
       "<matplotlib.figure.Figure at 0x1cf6e708860>"
      ]
     },
     "metadata": {},
     "output_type": "display_data"
    }
   ],
   "source": [
    "%matplotlib inline\n",
    "import matplotlib.pyplot as plt\n",
    "import numpy as np\n",
    "\n",
    "import librosa.display\n",
    "import IPython.display as ipd\n",
    "\n",
    "x = [1,2,2]\n",
    "y = [1,3,1]\n",
    "\n",
    "conv = np.convolve(x,y)\n",
    "# size is the sum of each input signal size, it is real values\n",
    "\n",
    "fft = np.fft.ifft(np.fft.fft(x) * np.fft.fft(y))\n",
    "# same size as the input signal, but complex\n",
    "\n",
    "# plot\n",
    "fig, (ax,ax2,ax3,ax4)= plt.subplots(1,4, figsize=(13, 2))\n",
    "ax.stem(x)\n",
    "ax.set(xlabel='bins', ylabel='$x$')\n",
    "ax2.stem(y)\n",
    "ax2.set(xlabel='bins', ylabel='$y$')\n",
    "ax3.stem(conv)\n",
    "ax3.set(xlabel='bins', ylabel='$conv(x,y)$')\n",
    "ax4.stem(np.abs(fft))\n",
    "ax4.set(xlabel='bins', ylabel='$|ifft(fft(x)*fft(y))|$')\n",
    "\n",
    "plt.tight_layout()\n",
    "\n"
   ]
  },
  {
   "cell_type": "markdown",
   "metadata": {},
   "source": [
    "* notice the conv has a tail that not overlap x nor y.\n",
    "* the fft assumes x and y are periodic\n",
    "\n",
    "### DFT implies circular convolution which is used for periodic signal\n",
    "\n",
    "solution:\n",
    "\n",
    "* zero pad x and y to avoid overlap between one period and the next"
   ]
  },
  {
   "cell_type": "code",
   "execution_count": 28,
   "metadata": {},
   "outputs": [
    {
     "data": {
      "image/png": "[encoded data removed]",
      "text/plain": [
       "<matplotlib.figure.Figure at 0x1cf6e617dd8>"
      ]
     },
     "metadata": {},
     "output_type": "display_data"
    }
   ],
   "source": [
    "xpad = np.pad(x,(0, len(x)+len(y)-1), 'constant')\n",
    "ypad = np.pad(y,(0, len(x)+len(y)-1), 'constant')\n",
    "\n",
    "fftpad = np.fft.ifft(np.fft.fft(xpad) * np.fft.fft(ypad))\n",
    "\n",
    "# plot\n",
    "fig, (ax)= plt.subplots(1,1, figsize=(3, 2))\n",
    "ax.stem(np.abs(fftpad[:len(x)+len(y)-1]))\n",
    "ax.set(xlabel='bins', ylabel='$|ifft(fft(x)*fft(y))|$')\n",
    "plt.tight_layout()"
   ]
  },
  {
   "cell_type": "markdown",
   "metadata": {},
   "source": [
    "There are a few things to consider before you decide to zero pad your time-domain signal. You may not need to zero pad the signal at all!\n",
    "\n",
    "1) Lengthen the time-domain data (not zero padding) to get better resolution in the frequency domain.\n",
    "\n",
    "2) Increase the number of FFT points beyond your time-domain signal length (zero padding) if you would like to see better definition of the FFT bins, though it doesn't buy you any more true resolution. You can also pad to get to a power of 2 number of FFT points.\n",
    "\n",
    "3) When fiddling with the FFT points (in the previous point), make sure your frequency points end up where you want them. The spacing of the points is fs/N, where fs is the sampling frequency and N is the number of FFT points."
   ]
  }
 ],
 "metadata": {
  "kernelspec": {
   "display_name": "Python 3",
   "language": "python",
   "name": "python3"
  },
  "language_info": {
   "codemirror_mode": {
    "name": "ipython",
    "version": 3
   },
   "file_extension": ".py",
   "mimetype": "text/x-python",
   "name": "python",
   "nbconvert_exporter": "python",
   "pygments_lexer": "ipython3",
   "version": "3.6.4"
  }
 },
 "nbformat": 4,
 "nbformat_minor": 2
}
